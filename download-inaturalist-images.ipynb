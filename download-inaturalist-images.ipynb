{
 "cells": [
  {
   "cell_type": "markdown",
   "metadata": {},
   "source": [
    "Created: 18 July 2019  \n",
    "Updated: 31 July 2019\n",
    "\n",
    "Bulk Downloading Images from iNaturalist\n",
    "====================================\n",
    "\n",
    "This notebook outlines the procedure for bulk downloading observation photos from iNaturalist using Python. This notebook has been tailored to GGI-Gardens, but this procedure can be used for any project with the right modifications.\n",
    "\n",
    "Individual specimens are recorded in iNaturalist as `observation` records. Each observation record contains taxonomic information, collection event information, etc. Multiple images of the specimen can be attached to each observation as `photo` records. Photo records contain their own data: the time and date the photo was taken, licensing information, etc.\n",
    "\n",
    "Observation data for collections can be exported from iNaturalist using the Export Observation tool. This notebook uses exported observation data to download the associated images and image metadata via the iNaturalist API.\n",
    "\n",
    "iNaturalist API\n",
    "---------------------\n",
    "\n",
    "The [iNaturalist API](https://www.inaturalist.org/pages/api+reference) includes an endpoint that allows users to retrieve information about an observation with the observation's ID. Among other data, the API will return static URLs for all the photos attached to an observation. \n",
    "\n",
    "Here is an example of the API data returned for one observation:\n",
    "\n",
    "https://www.inaturalist.org/observations/2646623.json\n",
    "\n",
    "iNaturalist requests that users limit querying rates to no more than 60 queries/minute. This code adheres to this rate limit."
   ]
  },
  {
   "cell_type": "markdown",
   "metadata": {},
   "source": [
    "Download Observation Data\n",
    "------------------------------------------\n",
    "\n",
    "1. Log into iNaturalist\n",
    "\n",
    "\n",
    "2. Once logged in, you should be able to use this link to get to the **Export Observations** page for the Global Genome Initiative Gardens project: https://www.inaturalist.org/observations/export?projects%5B%5D=global-genome-initiative-gardens (Alternatively, click the **Projects** tab, then **Global Genome Initiative Gardens**, then scroll down and click **Export Observations**.)\n",
    "\n",
    "\n",
    "3. In Section 1 (Create a Query), find the **Filter** options and select the box for **w/ photos**. \n",
    "\n",
    "\n",
    "4. In Section 3 (Choose columns), ensure that the **id** box in the **Basic** section is selected.\n",
    "\n",
    "\n",
    "5. Add additional filters and select/deselect additional columns based on the observation data you would like to export.\n",
    "\n",
    "\n",
    "6. Scroll down to the bottom and click **Create export**. You can either wait a few minutes for the report to generate, or choose to receive a notification email.  \n",
    "\n",
    "\n",
    "7. Once the report is generated, download it and extract the .csv file from the zip archive. Rename the extracted file `observations.csv`."
   ]
  },
  {
   "cell_type": "markdown",
   "metadata": {},
   "source": [
    "Retrieve image URLs and metadata\n",
    "---------------------------------------------------"
   ]
  },
  {
   "cell_type": "markdown",
   "metadata": {},
   "source": [
    "Import the requisite Python libraries."
   ]
  },
  {
   "cell_type": "code",
   "execution_count": 1,
   "metadata": {},
   "outputs": [],
   "source": [
    "import os, requests, time, urllib.request\n",
    "import pandas as pd"
   ]
  },
  {
   "cell_type": "markdown",
   "metadata": {},
   "source": [
    "Read `observations.csv` to get a list of all observation IDs in the project."
   ]
  },
  {
   "cell_type": "code",
   "execution_count": 2,
   "metadata": {},
   "outputs": [
    {
     "name": "stdout",
     "output_type": "stream",
     "text": [
      "Index(['id', 'observed_on_string', 'observed_on', 'time_observed_at',\n",
      "       'time_zone', 'out_of_range', 'user_id', 'user_login', 'created_at',\n",
      "       'updated_at', 'quality_grade', 'license', 'url', 'image_url',\n",
      "       'sound_url', 'tag_list', 'description', 'id_please',\n",
      "       'num_identification_agreements', 'num_identification_disagreements',\n",
      "       'captive_cultivated', 'oauth_application_id', 'place_guess', 'latitude',\n",
      "       'longitude', 'positional_accuracy', 'private_place_guess',\n",
      "       'private_latitude', 'private_longitude', 'private_positional_accuracy',\n",
      "       'geoprivacy', 'taxon_geoprivacy', 'coordinates_obscured',\n",
      "       'positioning_method', 'positioning_device', 'species_guess',\n",
      "       'scientific_name', 'common_name', 'iconic_taxon_name', 'taxon_id'],\n",
      "      dtype='object')\n"
     ]
    }
   ],
   "source": [
    "try:\n",
    "    observations = pd.read_csv('observations.csv')\n",
    "    print(observations.columns)\n",
    "except FileNotFoundError:\n",
    "    print(\"Could not find observations.csv.\")"
   ]
  },
  {
   "cell_type": "markdown",
   "metadata": {},
   "source": [
    "Extract a list of all observation `id`s."
   ]
  },
  {
   "cell_type": "code",
   "execution_count": 3,
   "metadata": {},
   "outputs": [
    {
     "name": "stdout",
     "output_type": "stream",
     "text": [
      "Number of observations: 1032\n"
     ]
    }
   ],
   "source": [
    "obs_ids = list(observations['id'])\n",
    "print(\"Number of observations: {}\".format(len(obs_ids)))"
   ]
  },
  {
   "cell_type": "markdown",
   "metadata": {},
   "source": [
    "For each observation, use the API to retrieve the associated image data. "
   ]
  },
  {
   "cell_type": "code",
   "execution_count": 4,
   "metadata": {
    "scrolled": true
   },
   "outputs": [
    {
     "name": "stdout",
     "output_type": "stream",
     "text": [
      "Retrieving photo data for 1032 observations\n",
      "10 observations processed, 32 total photo data retrieved\n",
      "20 observations processed, 61 total photo data retrieved\n",
      "30 observations processed, 98 total photo data retrieved\n"
     ]
    }
   ],
   "source": [
    "print(\"Retrieving photo data for {} observations\".format(len(obs_ids)))\n",
    "images = []\n",
    "obs_counter = 0\n",
    "for idno in obs_ids[:30]:\n",
    "    url = \"https://www.inaturalist.org/observations/{}.json\".format(idno)\n",
    "    r = requests.get(url).json()\n",
    "    photos = r.get('observation_photos', [])\n",
    "    for photo in photos:\n",
    "        photo_data = {'observation_id': photo.get('observation_id', None)}\n",
    "        photo_data.update(photo.get('photo', {}))\n",
    "        photo_data['original_size_url'] = photo_data.get('large_url', '').replace('large', 'original')\n",
    "        images.append(photo_data)\n",
    "    time.sleep(1) # Rate limit 1 request per second\n",
    "    \n",
    "    obs_counter += 1\n",
    "    if obs_counter % 10 == 0:\n",
    "        print(\"{} observations processed, {} total photo data retrieved\".format(obs_counter, len(images)))"
   ]
  },
  {
   "cell_type": "code",
   "execution_count": 5,
   "metadata": {},
   "outputs": [
    {
     "data": {
      "text/plain": [
       "{'observation_id': 2646623,\n",
       " 'id': 2970895,\n",
       " 'square_url': 'https://static.inaturalist.org/photos/2970895/square.jpg?1454686317',\n",
       " 'thumb_url': 'https://static.inaturalist.org/photos/2970895/thumb.jpg?1454686317',\n",
       " 'small_url': 'https://static.inaturalist.org/photos/2970895/small.jpg?1454686317',\n",
       " 'medium_url': 'https://static.inaturalist.org/photos/2970895/medium.jpg?1454686317',\n",
       " 'large_url': 'https://static.inaturalist.org/photos/2970895/large.jpg?1454686317',\n",
       " 'created_at': '2016-02-05T15:31:41.383Z',\n",
       " 'updated_at': '2016-02-05T15:32:02.023Z',\n",
       " 'native_page_url': 'http://www.inaturalist.org/photos/2970895',\n",
       " 'native_username': 'morgangostel',\n",
       " 'license': 0,\n",
       " 'subtype': None,\n",
       " 'native_original_image_url': None,\n",
       " 'license_code': 'C',\n",
       " 'attribution': '(c) Morgan Gostel, all rights reserved',\n",
       " 'license_name': 'Copyright',\n",
       " 'license_url': 'http://en.wikipedia.org/wiki/Copyright',\n",
       " 'type': 'LocalPhoto',\n",
       " 'original_size_url': 'https://static.inaturalist.org/photos/2970895/original.jpg?1454686317'}"
      ]
     },
     "execution_count": 5,
     "metadata": {},
     "output_type": "execute_result"
    }
   ],
   "source": [
    "images[0]"
   ]
  },
  {
   "cell_type": "markdown",
   "metadata": {},
   "source": [
    "Convert the retrieved image data to a Pandas DataFrame"
   ]
  },
  {
   "cell_type": "code",
   "execution_count": 6,
   "metadata": {},
   "outputs": [],
   "source": [
    "keep_columns = [\n",
    "    'observation_id', 'id', 'created_at', 'updated_at', \n",
    "    'native_page_url', 'native_username', 'license', 'subtype', \n",
    "    'native_original_image_url', \n",
    "    'license_code', 'attribution', 'license_name', 'license_url', \n",
    "    'type', 'original_size_url'\n",
    "]\n",
    "\n",
    "rename_columns = {\n",
    "    \"id\": \"photo_id\", \n",
    "    \"native_page_url\": \"inaturalist_page_url\",\n",
    "    \"native_username\": \"inaturalist_username\", \n",
    "    \"native_original_image_url\": \"original_image_url\",\n",
    "    \"original_size_url\": \"image_url\"\n",
    "}\n",
    "\n",
    "images_df = pd.DataFrame(images)\n",
    "images_df = images_df[keep_columns]\n",
    "images_df = images_df.rename(columns=rename_columns)"
   ]
  },
  {
   "cell_type": "markdown",
   "metadata": {},
   "source": [
    "Export image metadata as a tab-delimited file"
   ]
  },
  {
   "cell_type": "code",
   "execution_count": 7,
   "metadata": {},
   "outputs": [],
   "source": [
    "images_df.to_csv('image_metadata.csv', index=False)"
   ]
  },
  {
   "cell_type": "markdown",
   "metadata": {},
   "source": [
    "Download image files\n",
    "--------------------------------"
   ]
  },
  {
   "cell_type": "markdown",
   "metadata": {},
   "source": [
    "Make an `/images` directory to store photos, if one does not already exist."
   ]
  },
  {
   "cell_type": "code",
   "execution_count": 8,
   "metadata": {},
   "outputs": [
    {
     "name": "stdout",
     "output_type": "stream",
     "text": [
      "Created images directory.\n"
     ]
    }
   ],
   "source": [
    "try:\n",
    "    os.mkdir('images')\n",
    "    print(\"Created images directory.\")\n",
    "except FileExistsError:\n",
    "    print('Images directory already exists.')"
   ]
  },
  {
   "cell_type": "markdown",
   "metadata": {},
   "source": [
    "For every photo retrieved, download the photo in its original size to the `/images` folder."
   ]
  },
  {
   "cell_type": "code",
   "execution_count": 10,
   "metadata": {},
   "outputs": [
    {
     "name": "stdout",
     "output_type": "stream",
     "text": [
      "Retrieving 98 images\n",
      "Retrieved 10 of 98 images\n",
      "Retrieved 20 of 98 images\n",
      "Retrieved 30 of 98 images\n",
      "Retrieved 40 of 98 images\n",
      "Retrieved 50 of 98 images\n",
      "Retrieved 60 of 98 images\n",
      "Retrieved 70 of 98 images\n",
      "Retrieved 80 of 98 images\n",
      "Retrieved 90 of 98 images\n",
      "Completed. 98 of 98 images have been retrieved\n"
     ]
    }
   ],
   "source": [
    "image_counter = 0\n",
    "print(\"Retrieving {} images\".format(len(images)))\n",
    "for image in images:\n",
    "    obs_id = image.get('observation_id', 'Unknown')\n",
    "    photo_id = image.get('id', 'Unknown')\n",
    "    image_name = \"images/observation{}_image{}.jpg\".format(obs_id, photo_id)\n",
    "    image_url = image.get('original_size_url', None)\n",
    "    if image_url:\n",
    "        urllib.request.urlretrieve(image_url, image_name)\n",
    "    \n",
    "    image_counter += 1\n",
    "    if image_counter % 10 == 0:\n",
    "        print(\"Retrieved {} of {} images\".format(image_counter, len(images)))\n",
    "    time.sleep(1) # Rate limit 1 request per second\n",
    "print(\"Completed. {} of {} images have been retrieved\".format(len(images), len(images)))"
   ]
  },
  {
   "cell_type": "markdown",
   "metadata": {},
   "source": [
    "Match images to observation data and image metadata\n",
    "-------------------------------------------------------------------------------\n",
    "\n",
    "Downloaded images are named in the format `observation<OBSERVATION ID>_image<PHOTO ID>.jpg`.\n",
    "\n",
    "To match images to occurrence data, use the occurrence ID number of the image (the first number) and the `id` column of `observations.csv`.\n",
    "\n",
    "To match images to image metadata, use the photo ID number of the image (the second number) and the `photo_id` column of `image_metadata.csv`.\n",
    "\n",
    "To match observation data to image metadata, use the `id` column of `observations.csv` and the `observation_id` column of `image_metadata.csv`."
   ]
  }
 ],
 "metadata": {
  "kernelspec": {
   "display_name": "Python 3",
   "language": "python",
   "name": "python3"
  },
  "language_info": {
   "codemirror_mode": {
    "name": "ipython",
    "version": 3
   },
   "file_extension": ".py",
   "mimetype": "text/x-python",
   "name": "python",
   "nbconvert_exporter": "python",
   "pygments_lexer": "ipython3",
   "version": "3.6.5"
  }
 },
 "nbformat": 4,
 "nbformat_minor": 2
}
